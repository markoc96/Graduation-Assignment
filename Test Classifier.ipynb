{
 "cells": [
  {
   "cell_type": "code",
   "execution_count": 25,
   "metadata": {},
   "outputs": [],
   "source": [
    "from keras.models import load_model\n",
    "from keras.preprocessing.image import load_img, img_to_array\n",
    "import numpy as np\n",
    "import csv\n",
    "import shutil\n",
    "import glob"
   ]
  },
  {
   "cell_type": "code",
   "execution_count": 26,
   "metadata": {},
   "outputs": [],
   "source": [
    "inception = load_model('inception_model.h5')"
   ]
  },
  {
   "cell_type": "code",
   "execution_count": 27,
   "metadata": {},
   "outputs": [
    {
     "name": "stdout",
     "output_type": "stream",
     "text": [
      "Image: Test Images/Model Test/Vipers Bugloss/Vipersbugloss3.jpg Prediction: Tree of Heaven\n"
     ]
    }
   ],
   "source": [
    "# To bulk test all images in a folder:\n",
    "#images = glob.glob('Test Images/Model Test/Vipers Bugloss/*.jpg')\n",
    "#for item in images:\n",
    "\n",
    "#specify the image to classify in the img_name variable - you will need to specify the sub folder and the image name\n",
    "#this would be the image that the user takes on their phone\n",
    "img_name = 'Vipersbugloss3.jpg'\n",
    "img_folder = 'Vipers Bugloss'\n",
    "\n",
    "img_src = 'Test Images/Model Test/'+img_folder+'/'+img_name\n",
    "\n",
    "class_indices = {0:'Bengal Rose', 1:'Blackthorn', 2:'Common Dogwood', 3:'Common Toadflax', 4:'Common Yarrow', 5:'Cow Parsley', \n",
    "                6:'English Ivy', 7:'Purple Loosestrife', 8:'Tree of Heaven', 9:\"Viper's Bugloss\"}\n",
    "\n",
    "#resize image to the input size of the model. Reshape into a 4D tensor.\n",
    "image_inception = (img_to_array(load_img(img_src, target_size = (299,299)))/255.).reshape(1,299,299,3)\n",
    "\n",
    "#get the prediction from the model\n",
    "inception_prediction = np.argmax((inception(image_inception)).numpy(), axis = -1)\n",
    "\n",
    "#match prediciton to the class index\n",
    "prediction = class_indices[int(inception_prediction)]\n",
    "\n",
    "print('Image:',img_src, 'Prediction:', prediction)"
   ]
  },
  {
   "cell_type": "markdown",
   "metadata": {},
   "source": [
    "## Expert review section\n",
    "\n",
    "This is where the data-driven feedback loop is created"
   ]
  },
  {
   "cell_type": "code",
   "execution_count": 28,
   "metadata": {},
   "outputs": [
    {
     "name": "stdout",
     "output_type": "stream",
     "text": [
      "Incorrect prediction. This species is Viper's Bugloss\n"
     ]
    }
   ],
   "source": [
    "invasive_list = [3,4,6,7,8]\n",
    "\n",
    "if inception_prediction in invasive_list:\n",
    "    check_pred = input('Is this prediction correct (Yes/No): ')\n",
    "    #if correct and invasive, image is saved in the Invasive Images.csv file\n",
    "    if check_pred == 'Yes':\n",
    "        writer = csv.writer(open('Invasive Images.csv', 'a', newline=''))\n",
    "        writer.writerows([img_src])\n",
    "        print('This is a correct classification of an invasive species')\n",
    "    #if incorrect, image is saved in another folder for future training of the model\n",
    "    else:\n",
    "        actual_species = input('What species is this? ')\n",
    "        shutil.move(img_src,'Incorrect Predictions/'+actual_species)\n",
    "        print('Incorrect prediction. This species is',actual_species)"
   ]
  }
 ],
 "metadata": {
  "interpreter": {
   "hash": "236a6865d7053bb2e34d42c317695680cdb526aa64343af1ca43dd035c355287"
  },
  "kernelspec": {
   "display_name": "Python 3.8.8 ('base')",
   "language": "python",
   "name": "python3"
  },
  "language_info": {
   "codemirror_mode": {
    "name": "ipython",
    "version": 3
   },
   "file_extension": ".py",
   "mimetype": "text/x-python",
   "name": "python",
   "nbconvert_exporter": "python",
   "pygments_lexer": "ipython3",
   "version": "3.8.8"
  },
  "orig_nbformat": 4
 },
 "nbformat": 4,
 "nbformat_minor": 2
}

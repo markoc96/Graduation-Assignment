{
 "cells": [
  {
   "cell_type": "markdown",
   "metadata": {},
   "source": [
    "## Extract Image Location\n",
    "\n",
    "In this notebook I will take the images uploaded by users and extract their GPS data which will be used later to predict the locations of invasive plants. \n",
    "\n",
    "Smartphones store metadata about the images taken on them in a format called EXIF (Exchangeable image file format). There is a long list of exif tags, however, the ones I need are gps.longitude, gps.latitude, gps.longitude_ref, and gps.latitude_ref\n",
    "\n",
    "Citation: Code adapted from https://medium.com/spatial-data-science/how-to-extract-gps-coordinates-from-images-in-python-e66e542af354"
   ]
  },
  {
   "cell_type": "code",
   "execution_count": 12,
   "metadata": {},
   "outputs": [],
   "source": [
    "from exif import Image\n",
    "import csv"
   ]
  },
  {
   "cell_type": "code",
   "execution_count": 13,
   "metadata": {},
   "outputs": [],
   "source": [
    "r = csv.reader(open('LocationTest.csv'))\n",
    "lines = list(r)\n",
    "img_path = lines[-1][0]"
   ]
  },
  {
   "cell_type": "markdown",
   "metadata": {},
   "source": [
    "EXIF stores GPS data in the DMS format, however the DD format is more user friendly and is the format used by Google Maps. \n",
    "The function below converts the data to DD format"
   ]
  },
  {
   "cell_type": "code",
   "execution_count": 14,
   "metadata": {},
   "outputs": [],
   "source": [
    "def decimal_coords(coords, ref):\n",
    " decimal_degrees = coords[0] + coords[1] / 60 + coords[2] / 3600\n",
    " if ref == 'S' or ref == 'W':\n",
    "     decimal_degrees = -decimal_degrees\n",
    " return decimal_degrees"
   ]
  },
  {
   "cell_type": "code",
   "execution_count": 15,
   "metadata": {},
   "outputs": [],
   "source": [
    "def image_coordinates(image_path):\n",
    "    with open(image_path, 'rb') as src:\n",
    "        img = Image(src)\n",
    "    if img.has_exif:\n",
    "        try:\n",
    "            img.gps_longitude\n",
    "            xcoord = (decimal_coords(img.gps_latitude,\n",
    "                      img.gps_latitude_ref))\n",
    "            ycoord = (decimal_coords(img.gps_longitude,\n",
    "                      img.gps_longitude_ref))\n",
    "        except AttributeError:\n",
    "            print('No Coordinates')\n",
    "    else:\n",
    "        print('The Image has no EXIF information')\n",
    "    print(f\"Image {src.name}, OS Version:{img.get('software', 'Not Known')} ------\")\n",
    "    print(f\"Was taken: {img.datetime_original}, and has coordinates:{xcoord, ycoord}\")\n",
    "\n",
    "    #write coords to the csv file\n",
    "    lines[-1][1]=xcoord\n",
    "    lines[-1][2]=ycoord\n",
    "\n",
    "    writer = csv.writer(open('LocationTest.csv', 'w', newline=''))\n",
    "    writer.writerows(lines)\n",
    "\n"
   ]
  },
  {
   "cell_type": "code",
   "execution_count": 16,
   "metadata": {},
   "outputs": [
    {
     "name": "stdout",
     "output_type": "stream",
     "text": [
      "Image Test Images/Location Test/daisy.jpg, OS Version:G975FXXSEGVA9 ------\n",
      "Was taken: 2022:04:02 12:46:59, and has coordinates:(52.0732566, 5.0983529999999995)\n"
     ]
    }
   ],
   "source": [
    "image_coordinates(img_path)"
   ]
  }
 ],
 "metadata": {
  "interpreter": {
   "hash": "236a6865d7053bb2e34d42c317695680cdb526aa64343af1ca43dd035c355287"
  },
  "kernelspec": {
   "display_name": "Python 3.8.8 ('base')",
   "language": "python",
   "name": "python3"
  },
  "language_info": {
   "codemirror_mode": {
    "name": "ipython",
    "version": 3
   },
   "file_extension": ".py",
   "mimetype": "text/x-python",
   "name": "python",
   "nbconvert_exporter": "python",
   "pygments_lexer": "ipython3",
   "version": "3.8.8"
  },
  "orig_nbformat": 4
 },
 "nbformat": 4,
 "nbformat_minor": 2
}
